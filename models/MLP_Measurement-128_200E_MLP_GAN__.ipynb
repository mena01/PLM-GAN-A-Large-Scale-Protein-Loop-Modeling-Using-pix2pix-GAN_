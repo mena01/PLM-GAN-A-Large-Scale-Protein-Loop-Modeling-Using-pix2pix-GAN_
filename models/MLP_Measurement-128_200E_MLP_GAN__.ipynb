version https://git-lfs.github.com/spec/v1
oid sha256:9a50d6c76066481b93c3fad2d1997a61b4e934d279e607eff82208abf2cd6970
size 656391
