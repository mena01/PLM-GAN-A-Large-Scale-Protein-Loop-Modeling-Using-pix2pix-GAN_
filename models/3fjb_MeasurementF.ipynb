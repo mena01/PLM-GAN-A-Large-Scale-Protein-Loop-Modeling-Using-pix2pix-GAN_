version https://git-lfs.github.com/spec/v1
oid sha256:8a660f64fe72c35972b623bce664454a82bc016540ce08845d2fb8b4030b28b0
size 923958
