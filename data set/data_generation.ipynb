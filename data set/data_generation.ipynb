version https://git-lfs.github.com/spec/v1
oid sha256:6573b1c93ad5986b46d32a2f320dab2fecca02859d45c713619399b287ce00aa
size 84056
